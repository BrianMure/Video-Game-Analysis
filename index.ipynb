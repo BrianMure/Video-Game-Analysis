{
 "cells": [
  {
   "cell_type": "markdown",
   "id": "eda93513-3898-4005-8b18-5ec227c11fc9",
   "metadata": {},
   "source": [
    "# 1. Business Understanding\n",
    "\n",
    "The video game industry is a rapidly evolving sector characterized by diverse genres, platforms, and regional preferences. Understanding the sales performance of video games across the different parameters is crucial for the various stakeholders such as game developers, publishers, and marketers, to make informed decisions and strategize effectively."
   ]
  },
  {
   "cell_type": "markdown",
   "id": "a67acf52-18c1-42d0-8c64-f05505aedf42",
   "metadata": {},
   "source": [
    "### 1.1 Problem Statement"
   ]
  },
  {
   "cell_type": "markdown",
   "id": "f97747b1-6dd9-479f-b416-198c5a937e8b",
   "metadata": {},
   "source": [
    "Video game development companies are facing a challenge of understanding the factors that contribute to a game's success in terms of sales. The lack of knowledge in such a diverse world is making it difficult for companies to make informed decisions when it comes to future game development in instances such as what games to produce and what marketing techniques to use to promote their games. Hence, the need for data driven insights when it comes to development. "
   ]
  },
  {
   "cell_type": "markdown",
   "id": "15f1d501-35cc-4805-bbd2-3158d02351d0",
   "metadata": {},
   "source": [
    "### 1.2 Main Objective"
   ]
  },
  {
   "cell_type": "markdown",
   "id": "898966f3-9024-4381-9eed-a98ffb46be1f",
   "metadata": {},
   "source": [
    "The main objective of this project is to leverage historical sales data of different games, their genres and platforms to uncover patterns and insights that can inform business strategies. "
   ]
  },
  {
   "cell_type": "markdown",
   "id": "1ab84546-ba56-419e-ad88-7b5a9dc48931",
   "metadata": {},
   "source": [
    "### 1.3 Specific Objectives"
   ]
  },
  {
   "cell_type": "markdown",
   "id": "c41c817a-9e89-42ce-a374-7e3b520b1716",
   "metadata": {},
   "source": [
    "- To determine genre perfomrance in terms of sales and region\n",
    "- To determine which platform dominate sales "
   ]
  },
  {
   "cell_type": "markdown",
   "id": "77c81e71-ee82-4807-9cc7-791cc06635ea",
   "metadata": {},
   "source": [
    "# 2. Data Understanding"
   ]
  },
  {
   "cell_type": "markdown",
   "id": "31f881ad-da04-4d09-9bfc-6cebcfcaec3f",
   "metadata": {},
   "source": [
    "The section comprises of the following:\n",
    "\n",
    "* **Data Collection:** Identifying our data sources.\n",
    "* **Data Description:** Identifying what our data comprises.\n",
    "* **Data Credibility:** Ensuring the relevance and credibility of our data source.\n",
    "* **Importing relevant libraries:** Identifying the necessary and relevant libraries.\n"
   ]
  },
  {
   "cell_type": "markdown",
   "id": "b8164124-31c6-41c1-b5b6-04e2fdc7514e",
   "metadata": {},
   "source": [
    "### 2.1 Data Collection"
   ]
  },
  {
   "cell_type": "markdown",
   "id": "20cb5c6c-ebeb-4342-a853-c13d219240b5",
   "metadata": {},
   "source": [
    "The data source we will use is from the [Video Games Sales Data](https://drive.google.com/file/d/10YQC3xmf4RdxGh-faZYSnbgx_SB2nrBs/view?usp=sharing)"
   ]
  },
  {
   "cell_type": "markdown",
   "id": "5000c4b0-a1af-4fed-bbf6-9f9aeb9d668a",
   "metadata": {},
   "source": [
    "### 2.2 Data Description"
   ]
  },
  {
   "cell_type": "markdown",
   "id": "6d30e2c4-bf30-4cc7-853b-a2636bb2ad3b",
   "metadata": {},
   "source": [
    "The dataset consists of 11 columns with the following attributes:\n",
    "\n",
    "* **Rank:** Ranking of overall sales (integer)\n",
    "* **Name:** The game's name (object)\n",
    "* **Platform:** Platform of the game's release (e.g., PC, PS4) (object)\n",
    "* **Year:** Year of the game's release (float)\n",
    "* **Genre:** Genre of the game (object)\n",
    "* **Publisher:** Publisher of the game (object)\n",
    "* **NA_Sales:** Sales in North America (in millions)\n",
    "* **EU_Sales:** Sales in Europe (in millions)\n",
    "* **JP_Sales:** Sales in Japan (in millions)\n",
    "* **Other_Sales:** Sales in the rest of the world (in millions)\n",
    "* **Global_Sales:** Total worldwide sales (in millions)\n"
   ]
  },
  {
   "cell_type": "markdown",
   "id": "c64fe604-2875-41e2-8fe5-c937d033bf17",
   "metadata": {},
   "source": [
    "### 2.3 Data Credibility"
   ]
  },
  {
   "cell_type": "markdown",
   "id": "972cab1a-aba3-4417-a04c-6194057bbbc1",
   "metadata": {},
   "source": [
    "Ensuring the credibility and reliability of the data is crucial for making sound business decision and it involves checking on:\n",
    "\n",
    "- Data Completeness - **refers to dataset having all the necessary data elements i.e all variables relevant to our specifc objectives are present**\n",
    "- Data Consistency - **refers to quality of data being uniform e.g the year variable is uniform throughout**\n",
    "- Data Accuracy - **our data is considered accurate because it describes the real world.**\n",
    "- Data Validity - **refers to the data being relevant to our objectives i.e our data set is valid in that we can easily view and track video sales**"
   ]
  },
  {
   "cell_type": "markdown",
   "id": "f17a455f-abaf-46c1-aa77-20ae07cd85a0",
   "metadata": {},
   "source": [
    "### 2.4 Importing Relevant Libraries"
   ]
  },
  {
   "cell_type": "code",
   "execution_count": 1,
   "id": "ca45a4ac-ff7c-4d1a-850d-830b3ccb2e43",
   "metadata": {},
   "outputs": [],
   "source": [
    "#importing relevant libraries\n",
    "\n",
    "import pandas as pd\n",
    "import matplotlib.pyplot as plt\n",
    "import seaborn as sns\n"
   ]
  },
  {
   "cell_type": "markdown",
   "id": "45cbde3a-cd5e-422a-8185-d0e2af3206f0",
   "metadata": {},
   "source": [
    "# 3. Data Preparation"
   ]
  },
  {
   "cell_type": "markdown",
   "id": "fd14878f-52f6-429c-a6b9-4afcc95447c1",
   "metadata": {},
   "source": [
    "### 3.1 Loading the Data"
   ]
  },
  {
   "cell_type": "code",
   "execution_count": 3,
   "id": "e27b51a6-7495-4483-bda3-31acf5ca8085",
   "metadata": {},
   "outputs": [],
   "source": [
    "#loading the csv file\n",
    "\n",
    "def video_sales_data():\n",
    "    # Read video sales data\n",
    "    vgSales = pd.read_csv('./vgsales.csv', index_col='Rank')\n",
    "        \n",
    "    return vgSales\n",
    "\n",
    "vgSales = video_sales_data()"
   ]
  },
  {
   "cell_type": "code",
   "execution_count": 4,
   "id": "08b6fe62-03ec-4d23-9b63-6fdb45977503",
   "metadata": {},
   "outputs": [
    {
     "data": {
      "text/html": [
       "<div>\n",
       "<style scoped>\n",
       "    .dataframe tbody tr th:only-of-type {\n",
       "        vertical-align: middle;\n",
       "    }\n",
       "\n",
       "    .dataframe tbody tr th {\n",
       "        vertical-align: top;\n",
       "    }\n",
       "\n",
       "    .dataframe thead th {\n",
       "        text-align: right;\n",
       "    }\n",
       "</style>\n",
       "<table border=\"1\" class=\"dataframe\">\n",
       "  <thead>\n",
       "    <tr style=\"text-align: right;\">\n",
       "      <th></th>\n",
       "      <th>Name</th>\n",
       "      <th>Platform</th>\n",
       "      <th>Year</th>\n",
       "      <th>Genre</th>\n",
       "      <th>Publisher</th>\n",
       "      <th>NA_Sales</th>\n",
       "      <th>EU_Sales</th>\n",
       "      <th>JP_Sales</th>\n",
       "      <th>Other_Sales</th>\n",
       "      <th>Global_Sales</th>\n",
       "    </tr>\n",
       "    <tr>\n",
       "      <th>Rank</th>\n",
       "      <th></th>\n",
       "      <th></th>\n",
       "      <th></th>\n",
       "      <th></th>\n",
       "      <th></th>\n",
       "      <th></th>\n",
       "      <th></th>\n",
       "      <th></th>\n",
       "      <th></th>\n",
       "      <th></th>\n",
       "    </tr>\n",
       "  </thead>\n",
       "  <tbody>\n",
       "    <tr>\n",
       "      <th>1</th>\n",
       "      <td>Wii Sports</td>\n",
       "      <td>Wii</td>\n",
       "      <td>2006</td>\n",
       "      <td>Sports</td>\n",
       "      <td>Nintendo</td>\n",
       "      <td>41.49</td>\n",
       "      <td>29.02</td>\n",
       "      <td>3.77</td>\n",
       "      <td>8.46</td>\n",
       "      <td>82.74</td>\n",
       "    </tr>\n",
       "    <tr>\n",
       "      <th>2</th>\n",
       "      <td>Super Mario Bros.</td>\n",
       "      <td>NES</td>\n",
       "      <td>1985</td>\n",
       "      <td>Platform</td>\n",
       "      <td>Nintendo</td>\n",
       "      <td>29.08</td>\n",
       "      <td>3.58</td>\n",
       "      <td>6.81</td>\n",
       "      <td>0.77</td>\n",
       "      <td>40.24</td>\n",
       "    </tr>\n",
       "    <tr>\n",
       "      <th>3</th>\n",
       "      <td>Mario Kart Wii</td>\n",
       "      <td>Wii</td>\n",
       "      <td>2008</td>\n",
       "      <td>Racing</td>\n",
       "      <td>Nintendo</td>\n",
       "      <td>15.85</td>\n",
       "      <td>12.88</td>\n",
       "      <td>3.79</td>\n",
       "      <td>3.31</td>\n",
       "      <td>35.82</td>\n",
       "    </tr>\n",
       "    <tr>\n",
       "      <th>4</th>\n",
       "      <td>Wii Sports Resort</td>\n",
       "      <td>Wii</td>\n",
       "      <td>2009</td>\n",
       "      <td>Sports</td>\n",
       "      <td>Nintendo</td>\n",
       "      <td>15.75</td>\n",
       "      <td>11.01</td>\n",
       "      <td>3.28</td>\n",
       "      <td>2.96</td>\n",
       "      <td>33.00</td>\n",
       "    </tr>\n",
       "    <tr>\n",
       "      <th>5</th>\n",
       "      <td>Pokemon Red/Pokemon Blue</td>\n",
       "      <td>GB</td>\n",
       "      <td>1996</td>\n",
       "      <td>Role-Playing</td>\n",
       "      <td>Nintendo</td>\n",
       "      <td>11.27</td>\n",
       "      <td>8.89</td>\n",
       "      <td>10.22</td>\n",
       "      <td>1.00</td>\n",
       "      <td>31.37</td>\n",
       "    </tr>\n",
       "  </tbody>\n",
       "</table>\n",
       "</div>"
      ],
      "text/plain": [
       "                          Name Platform  Year         Genre Publisher  \\\n",
       "Rank                                                                    \n",
       "1                   Wii Sports      Wii  2006        Sports  Nintendo   \n",
       "2            Super Mario Bros.      NES  1985      Platform  Nintendo   \n",
       "3               Mario Kart Wii      Wii  2008        Racing  Nintendo   \n",
       "4            Wii Sports Resort      Wii  2009        Sports  Nintendo   \n",
       "5     Pokemon Red/Pokemon Blue       GB  1996  Role-Playing  Nintendo   \n",
       "\n",
       "      NA_Sales  EU_Sales  JP_Sales  Other_Sales  Global_Sales  \n",
       "Rank                                                           \n",
       "1        41.49     29.02      3.77         8.46         82.74  \n",
       "2        29.08      3.58      6.81         0.77         40.24  \n",
       "3        15.85     12.88      3.79         3.31         35.82  \n",
       "4        15.75     11.01      3.28         2.96         33.00  \n",
       "5        11.27      8.89     10.22         1.00         31.37  "
      ]
     },
     "execution_count": 4,
     "metadata": {},
     "output_type": "execute_result"
    }
   ],
   "source": [
    "#check the first 5 titles\n",
    "vgSales.head(5)"
   ]
  },
  {
   "cell_type": "markdown",
   "id": "d63bdf9d-e599-4b5f-a283-5f66da70af22",
   "metadata": {},
   "source": [
    "### 3.2 Data Cleaning"
   ]
  },
  {
   "cell_type": "markdown",
   "id": "0694732c-fe77-402f-9b6a-b22c765c8289",
   "metadata": {},
   "source": [
    "### 3.2.1 Missing Values\n",
    "\n",
    "This involves checking for any missing values in our data set"
   ]
  },
  {
   "cell_type": "code",
   "execution_count": 5,
   "id": "33e3c403-a688-4776-bd47-4f59467c517c",
   "metadata": {},
   "outputs": [
    {
     "data": {
      "text/plain": [
       "Name            0.0\n",
       "Platform        0.0\n",
       "Year            0.0\n",
       "Genre           0.0\n",
       "Publisher       0.0\n",
       "NA_Sales        0.0\n",
       "EU_Sales        0.0\n",
       "JP_Sales        0.0\n",
       "Other_Sales     0.0\n",
       "Global_Sales    0.0\n",
       "dtype: float64"
      ]
     },
     "execution_count": 5,
     "metadata": {},
     "output_type": "execute_result"
    }
   ],
   "source": [
    "#check for ths sum of the null values in the dataset\n",
    "vgSales.isnull().sum()\n",
    "\n",
    "#check for the percentage of the null values \n",
    "percentage_missing = vgSales.isnull().sum() * 100 / len(vgSales)\n",
    "percentage_missing"
   ]
  },
  {
   "cell_type": "markdown",
   "id": "07a934bb-84e6-43f4-9732-3db014de087d",
   "metadata": {},
   "source": [
    "- The data set has zero missing values"
   ]
  },
  {
   "cell_type": "markdown",
   "id": "accead51-2b13-49a2-89ec-a6258b60424b",
   "metadata": {},
   "source": [
    "### 3.2.2 Dropping Unecessary Columns\n",
    "\n",
    "- From our specific objectives we will not drop any columns.\n",
    "\n",
    "- All columns are necessary for the analysis of our specific objectives. "
   ]
  },
  {
   "cell_type": "markdown",
   "id": "07c45e32-0e74-4985-815b-275f3a6d10b5",
   "metadata": {},
   "source": [
    "# 4 Exploratory Data Analysis\n",
    "\n",
    "- Exploratory Data Analysis (EDA) is used on the one hand to answer questions, test business assumptions, generate hypotheses for further analysis. \n",
    "\n",
    "- On the other hand, you can also use it to prepare the data for visulaization. "
   ]
  },
  {
   "cell_type": "markdown",
   "id": "a8e31cd0-1e86-48de-b0fe-d64fb847ede8",
   "metadata": {},
   "source": [
    "### 4.1 Information on the Data Frame"
   ]
  },
  {
   "cell_type": "code",
   "execution_count": 6,
   "id": "8109393d-4c11-486a-9bb8-5eb3fb8cad75",
   "metadata": {},
   "outputs": [
    {
     "name": "stdout",
     "output_type": "stream",
     "text": [
      "<class 'pandas.core.frame.DataFrame'>\n",
      "Index: 16598 entries, 1 to 16598\n",
      "Data columns (total 10 columns):\n",
      " #   Column        Non-Null Count  Dtype  \n",
      "---  ------        --------------  -----  \n",
      " 0   Name          16598 non-null  object \n",
      " 1   Platform      16598 non-null  object \n",
      " 2   Year          16598 non-null  int64  \n",
      " 3   Genre         16598 non-null  object \n",
      " 4   Publisher     16598 non-null  object \n",
      " 5   NA_Sales      16598 non-null  float64\n",
      " 6   EU_Sales      16598 non-null  float64\n",
      " 7   JP_Sales      16598 non-null  float64\n",
      " 8   Other_Sales   16598 non-null  float64\n",
      " 9   Global_Sales  16598 non-null  float64\n",
      "dtypes: float64(5), int64(1), object(4)\n",
      "memory usage: 1.4+ MB\n"
     ]
    }
   ],
   "source": [
    "#check for the info of the data frame\n",
    "vgSales.info()"
   ]
  },
  {
   "cell_type": "markdown",
   "id": "8ad55cd9-0c3d-47aa-88b5-c2909f2d75f0",
   "metadata": {},
   "source": [
    "From the data frame it is clear to see we have:\n",
    "\n",
    "* 16598 ENTRIES with nill missing values\n",
    "* 10 columns with a majority being float data types\n",
    "  "
   ]
  },
  {
   "cell_type": "markdown",
   "id": "4184a88b-7058-4585-a397-5a26fb80a58f",
   "metadata": {},
   "source": [
    "### 4.2 Basic Description of the Data\n",
    "\n",
    "This is one of the most elementary steps to do this is by getting a basic description of your data and we use the describe() function to get various summary statistics that exclude NaN values."
   ]
  },
  {
   "cell_type": "code",
   "execution_count": 7,
   "id": "71d36eba-0acd-486f-aee9-9fa05ce5d900",
   "metadata": {},
   "outputs": [
    {
     "data": {
      "text/html": [
       "<div>\n",
       "<style scoped>\n",
       "    .dataframe tbody tr th:only-of-type {\n",
       "        vertical-align: middle;\n",
       "    }\n",
       "\n",
       "    .dataframe tbody tr th {\n",
       "        vertical-align: top;\n",
       "    }\n",
       "\n",
       "    .dataframe thead th {\n",
       "        text-align: right;\n",
       "    }\n",
       "</style>\n",
       "<table border=\"1\" class=\"dataframe\">\n",
       "  <thead>\n",
       "    <tr style=\"text-align: right;\">\n",
       "      <th></th>\n",
       "      <th>Year</th>\n",
       "      <th>NA_Sales</th>\n",
       "      <th>EU_Sales</th>\n",
       "      <th>JP_Sales</th>\n",
       "      <th>Other_Sales</th>\n",
       "      <th>Global_Sales</th>\n",
       "    </tr>\n",
       "  </thead>\n",
       "  <tbody>\n",
       "    <tr>\n",
       "      <th>count</th>\n",
       "      <td>16598.000000</td>\n",
       "      <td>16598.000000</td>\n",
       "      <td>16598.000000</td>\n",
       "      <td>16598.000000</td>\n",
       "      <td>16598.000000</td>\n",
       "      <td>16598.000000</td>\n",
       "    </tr>\n",
       "    <tr>\n",
       "      <th>mean</th>\n",
       "      <td>2006.390649</td>\n",
       "      <td>0.264667</td>\n",
       "      <td>0.146652</td>\n",
       "      <td>0.077782</td>\n",
       "      <td>0.048063</td>\n",
       "      <td>0.537441</td>\n",
       "    </tr>\n",
       "    <tr>\n",
       "      <th>std</th>\n",
       "      <td>5.864105</td>\n",
       "      <td>0.816683</td>\n",
       "      <td>0.505351</td>\n",
       "      <td>0.309291</td>\n",
       "      <td>0.188588</td>\n",
       "      <td>1.555028</td>\n",
       "    </tr>\n",
       "    <tr>\n",
       "      <th>min</th>\n",
       "      <td>1977.000000</td>\n",
       "      <td>0.000000</td>\n",
       "      <td>0.000000</td>\n",
       "      <td>0.000000</td>\n",
       "      <td>0.000000</td>\n",
       "      <td>0.010000</td>\n",
       "    </tr>\n",
       "    <tr>\n",
       "      <th>25%</th>\n",
       "      <td>2003.000000</td>\n",
       "      <td>0.000000</td>\n",
       "      <td>0.000000</td>\n",
       "      <td>0.000000</td>\n",
       "      <td>0.000000</td>\n",
       "      <td>0.060000</td>\n",
       "    </tr>\n",
       "    <tr>\n",
       "      <th>50%</th>\n",
       "      <td>2007.000000</td>\n",
       "      <td>0.080000</td>\n",
       "      <td>0.020000</td>\n",
       "      <td>0.000000</td>\n",
       "      <td>0.010000</td>\n",
       "      <td>0.170000</td>\n",
       "    </tr>\n",
       "    <tr>\n",
       "      <th>75%</th>\n",
       "      <td>2010.000000</td>\n",
       "      <td>0.240000</td>\n",
       "      <td>0.110000</td>\n",
       "      <td>0.040000</td>\n",
       "      <td>0.040000</td>\n",
       "      <td>0.470000</td>\n",
       "    </tr>\n",
       "    <tr>\n",
       "      <th>max</th>\n",
       "      <td>2021.000000</td>\n",
       "      <td>41.490000</td>\n",
       "      <td>29.020000</td>\n",
       "      <td>10.220000</td>\n",
       "      <td>10.570000</td>\n",
       "      <td>82.740000</td>\n",
       "    </tr>\n",
       "  </tbody>\n",
       "</table>\n",
       "</div>"
      ],
      "text/plain": [
       "               Year      NA_Sales      EU_Sales      JP_Sales   Other_Sales  \\\n",
       "count  16598.000000  16598.000000  16598.000000  16598.000000  16598.000000   \n",
       "mean    2006.390649      0.264667      0.146652      0.077782      0.048063   \n",
       "std        5.864105      0.816683      0.505351      0.309291      0.188588   \n",
       "min     1977.000000      0.000000      0.000000      0.000000      0.000000   \n",
       "25%     2003.000000      0.000000      0.000000      0.000000      0.000000   \n",
       "50%     2007.000000      0.080000      0.020000      0.000000      0.010000   \n",
       "75%     2010.000000      0.240000      0.110000      0.040000      0.040000   \n",
       "max     2021.000000     41.490000     29.020000     10.220000     10.570000   \n",
       "\n",
       "       Global_Sales  \n",
       "count  16598.000000  \n",
       "mean       0.537441  \n",
       "std        1.555028  \n",
       "min        0.010000  \n",
       "25%        0.060000  \n",
       "50%        0.170000  \n",
       "75%        0.470000  \n",
       "max       82.740000  "
      ]
     },
     "execution_count": 7,
     "metadata": {},
     "output_type": "execute_result"
    }
   ],
   "source": [
    "#check for the summary statistics for the data frame\n",
    "vgSales.describe()"
   ]
  },
  {
   "cell_type": "markdown",
   "id": "bbfe855b-5ae9-402a-b9c6-5fafbba07029",
   "metadata": {},
   "source": [
    "From the summary above we can conclude that:\r\n",
    "\r\n",
    "1. **Year**: The data spans from 1977 to 2021, with a mean year of approximately 2006. This suggests that the majority of the games in the dataset were released in 2007.\r\n",
    "   \r\n",
    "2. **Sales by Region**: \r\n",
    "   - **North America (NA_Sales)**: The mean NA sales  are approximately 0.265 million, with a standard deviation of 0.817 million. The sales distribution indicates that the majority of the data is greater than the median.\r\n",
    "   - **European Union (EU_Sales)**: The mean EU sales are approximately 0.147 million, with a standard deviation of 0.505 million. The distribution is similar to NA sales, but with slightly lower values.\r\n",
    "   - **Japan (JP_Sales)**: The mean JP sales are approximately 0.078 million, with a standard deviation of 0.309 million. The distribution appears near zero indicating a large number of games with low or no sales in Japan.\r\n",
    "   - **Rest of the world Regions (Other_Sales)**: The mean in other regions are approximately 0.048 million, with a standard deviation of 0.189 million sales.\r\n",
    "   - **Global Sales**: The mean global sales are approximately 0.537 million, with a standard deviation of 1.555 million. The distribution also shows sales being greater than the median.\r\n",
    "\r\n",
    "Overall, the dataset indicates that North America tends to have the highest average sales, followed by the European Union and then other regions. Japan has comparatively lower average sales.\r\n",
    "\r\n"
   ]
  },
  {
   "cell_type": "markdown",
   "id": "e9bde9d0-467d-4a7a-87b2-5a958847a21c",
   "metadata": {},
   "source": [
    "### 4.3 Shape of the Data Frame\n",
    "\n",
    "The shape property returns a tuple containing the shape of the DataFrame.\r\n",
    "\r\n",
    "The shape is the number of rows and columns of the DataFrame"
   ]
  },
  {
   "cell_type": "code",
   "execution_count": 8,
   "id": "e0527b9f-6523-4afb-8ab8-235b9596b8ea",
   "metadata": {},
   "outputs": [
    {
     "data": {
      "text/plain": [
       "(16598, 10)"
      ]
     },
     "execution_count": 8,
     "metadata": {},
     "output_type": "execute_result"
    }
   ],
   "source": [
    "#check for the number of columns and rows for the data frame\n",
    "\n",
    "vgSales.shape"
   ]
  },
  {
   "cell_type": "code",
   "execution_count": 9,
   "id": "f92ab7cb-6090-4ce7-9ea2-72cd9b8f57d9",
   "metadata": {},
   "outputs": [
    {
     "name": "stdout",
     "output_type": "stream",
     "text": [
      "The number of rows for the dataframe is 16598 and the number of columns is 10\n"
     ]
    }
   ],
   "source": [
    "print (f\"The number of rows for the dataframe is {vgSales.shape[0]} and the number of columns is {vgSales.shape[1]}\")"
   ]
  },
  {
   "cell_type": "markdown",
   "id": "dba43188-45e9-438c-a8b7-76436d2e9671",
   "metadata": {},
   "source": [
    "### 4.4 Analysis and Correlation Based on the Specific Objectives"
   ]
  },
  {
   "cell_type": "markdown",
   "id": "2c228f0e-ca33-4fd3-affb-4c35af2d66a7",
   "metadata": {},
   "source": [
    "This step involves analyzing our specific objectives based on the specific objectives we have"
   ]
  },
  {
   "cell_type": "markdown",
   "id": "3ad41783-7722-40fc-9bc8-d81044e5ec45",
   "metadata": {},
   "source": [
    "### 4.4.1 Analysis of Genre Perfomrance in Relation to Regional Sales"
   ]
  },
  {
   "cell_type": "markdown",
   "id": "ff3f0cd0-55fb-4ec7-b0ba-4c49d55078ce",
   "metadata": {},
   "source": [
    "- From our dataset we have different genres for our different video games. Some of the genres include:\n",
    "  * **Sports**\n",
    "  * **Action**\n",
    "  * **Shooting**\n",
    "- And the regions include:\n",
    "  * **North America**\n",
    "  * **European Union**\n",
    "  * **Japan**\n",
    "  * **Rest of the world**\n",
    " \n",
    "Our analysis will focus on the different genres and their regional sales"
   ]
  },
  {
   "cell_type": "code",
   "execution_count": 13,
   "id": "22842385-0799-4021-9a92-7a68f46e41d8",
   "metadata": {},
   "outputs": [
    {
     "data": {
      "image/png": "[encoded data removed]",
      "text/plain": [
       "<Figure size 1200x800 with 1 Axes>"
      ]
     },
     "metadata": {},
     "output_type": "display_data"
    }
   ],
   "source": [
    "# First we group by Genre \n",
    "genre_sales = vgSales.groupby('Genre').agg(\n",
    "    Total_NA_Unit_Sales=('NA_Sales', 'sum'),\n",
    "    Total_EU_Unit_Sales=('EU_Sales', 'sum'),\n",
    "    Total_JP_Unit_Sales=('JP_Sales', 'sum'),\n",
    "    Total_Other_Unit_Sales=('Other_Sales', 'sum')\n",
    ").reset_index()\n",
    "\n",
    "# Reshape the data using .melt() to allow a row to represents a combination of genre, region, and total sale\n",
    "genre_sales_long = genre_sales.melt(id_vars='Genre', \n",
    "                                    value_vars=['Total_NA_Unit_Sales', 'Total_EU_Unit_Sales', 'Total_JP_Unit_Sales', 'Total_Other_Unit_Sales'], \n",
    "                                    var_name='Region', \n",
    "                                    value_name='Total_Sales')\n",
    "\n",
    "# Map Region names \n",
    "region_mapping = {\n",
    "    'Total_NA_Unit_Sales': 'North America',\n",
    "    'Total_EU_Unit_Sales': 'European Union',\n",
    "    'Total_JP_Unit_Sales': 'Japan',\n",
    "    'Total_Other_Unit_Sales': 'Rest of the World'\n",
    "}\n",
    "\n",
    "genre_sales_long['Region'] = genre_sales_long['Region'].map(region_mapping)\n",
    "\n",
    "# Create the bar plot and labels\n",
    "plt.figure(figsize=(12, 8))\n",
    "sns.barplot(data=genre_sales_long, x='Genre', y='Total_Sales', hue='Region')\n",
    "plt.title('Genre Popularity by Sales and Region')\n",
    "plt.xlabel('Genre')\n",
    "plt.ylabel('Total Unit Sales (millions)')\n",
    "plt.xticks(rotation=45)\n",
    "plt.legend(title='Region')\n",
    "plt.tight_layout()\n",
    "plt.show()"
   ]
  },
  {
   "cell_type": "markdown",
   "id": "6ee85dd9-f3f8-4154-b034-f8b874920723",
   "metadata": {},
   "source": [
    "From the analysis above it is clear to see that:\n",
    "\n",
    "**1.** Action games are wildly popular in North America and Europe, while not as popular in Japan. \n",
    "   \n",
    "**2.** Sports, shooter, and platform games are also wildly popular in North America compared to other Regions\n",
    "\n",
    "**3.** Role palying games are widely popular in Japan compared to all the other genres as popularity of story line based games is very big in Japan\n",
    "\n",
    "**4.** North America also contributes to very huge sales, followed by the European Union, the Rest of the World then Japan."
   ]
  },
  {
   "cell_type": "markdown",
   "id": "ec5119a6-3361-406b-8e7a-6230f6d6cd4d",
   "metadata": {},
   "source": [
    "### 4.4.2 Analysis of the Platform which Dominates Sales"
   ]
  },
  {
   "cell_type": "markdown",
   "id": "3137272b-bc97-46da-8a39-33bced9fc783",
   "metadata": {},
   "source": [
    "- Our dataset contains different platforms to name but a few include:\n",
    "   * **PS2**\n",
    "   * **PS**\n",
    "   * **PS4**\n",
    "   * **XBox**\n",
    "   * **GB**\n",
    "\n",
    "- Platforms are the means in which the video games are played and this is useful in directing the video game companies to focus their money in development of games in regards to which platform"
   ]
  },
  {
   "cell_type": "code",
   "execution_count": 33,
   "id": "210a97ac-bdf2-4121-8dcc-a0fb0408378b",
   "metadata": {},
   "outputs": [
    {
     "data": {
      "image/png": "[encoded data removed]",
      "text/plain": [
       "<Figure size 1400x800 with 1 Axes>"
      ]
     },
     "metadata": {},
     "output_type": "display_data"
    }
   ],
   "source": [
    "# Group the data by platform and calculate total sales\n",
    "platform_sales = vgSales.groupby('Platform').agg({\n",
    "    'NA_Sales': 'sum',\n",
    "    'EU_Sales': 'sum',\n",
    "    'JP_Sales': 'sum',\n",
    "    'Other_Sales': 'sum',\n",
    "    'Global_Sales': 'sum'\n",
    "}).reset_index()\n",
    "\n",
    "# Sort the data by global sales in descending order\n",
    "platform_sales = platform_sales.sort_values(by='Global_Sales', ascending=False)\n",
    "\n",
    "# Plot the total global sales by platform\n",
    "plt.figure(figsize=(14, 8))\n",
    "sns.barplot(data=platform_sales, x='Platform', y='Global_Sales', palette='flare')\n",
    "plt.title('Total Global Sales by Platform')\n",
    "plt.xlabel('Platform')\n",
    "plt.ylabel('Total Global Sales (millions)')\n",
    "plt.xticks(rotation=45)\n",
    "plt.tight_layout()\n",
    "plt.show()\n"
   ]
  },
  {
   "cell_type": "markdown",
   "id": "0c092951-f9fb-41f6-8c8a-a5f3c6740099",
   "metadata": {},
   "source": [
    "From the analysis above we can clearly note the following:\n",
    "\n",
    "**1.** PS2 is the platform with the most global sales\n",
    "\n",
    "**2.** XBox360 is the platform with the second most global sales.\n",
    "\n",
    "**3.** SCD, NG, WS, TG16, 3DO have little to almost negligible sales at all.\n",
    "\n",
    "**4.** PC and Xbox have similar sales"
   ]
  },
  {
   "cell_type": "markdown",
   "id": "b208b13f-1a22-4ddb-95d5-f5c448f29ee2",
   "metadata": {},
   "source": [
    "# 5.0 Conclusion\n",
    "\n",
    "Here the focus is what we derive from our analysis in relation to our specific objectives:s"
   ]
  },
  {
   "cell_type": "markdown",
   "id": "b4d10346-e80d-489d-9c60-8a5a2c8bb35d",
   "metadata": {},
   "source": [
    "\n",
    "**1.** Action games are wildly popular in North America and Europe\n",
    "\n",
    "**2.** Action Games are less popular in Japan\n",
    "\n",
    "**3.** Role playing Games are highly popular in Japan compared to North America and other regions\n",
    "\n",
    "**4.** North America has the most amount of sales compared to Europe, Japan, and other Regions\n",
    "\n",
    "**5.** PS2 has the most sales\n",
    "\n",
    "**5** PC and Xbox have almost similar sales "
   ]
  }
 ],
 "metadata": {
  "kernelspec": {
   "display_name": "gomycode_env",
   "language": "python",
   "name": "gomycode_env"
  },
  "language_info": {
   "codemirror_mode": {
    "name": "ipython",
    "version": 3
   },
   "file_extension": ".py",
   "mimetype": "text/x-python",
   "name": "python",
   "nbconvert_exporter": "python",
   "pygments_lexer": "ipython3",
   "version": "3.11.7"
  }
 },
 "nbformat": 4,
 "nbformat_minor": 5
}
